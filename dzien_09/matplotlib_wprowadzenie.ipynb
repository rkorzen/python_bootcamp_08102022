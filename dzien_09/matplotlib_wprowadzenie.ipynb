{
 "cells": [
  {
   "cell_type": "code",
   "execution_count": 3,
   "id": "18af98e1",
   "metadata": {},
   "outputs": [
    {
     "name": "stdout",
     "output_type": "stream",
     "text": [
      "Writing przyklad_wykres.py\n"
     ]
    }
   ],
   "source": [
    "%%writefile przyklad_wykres.py\n",
    "import numpy as np\n",
    "import matplotlib.pyplot as plt\n",
    "\n",
    "x = np.linspace(-3, 3, 300)\n",
    "y = np.floor(x)\n",
    "y2 = x ** 2\n",
    "plt.plot(x, y, marker=\"+\",label=\"floor(x)\")\n",
    "plt.plot(x, y2, c=\"r\", label=r\"$x^2$\")\n",
    "plt.legend()\n",
    "plt.show()"
   ]
  },
  {
   "cell_type": "code",
   "execution_count": null,
   "id": "13af6d26",
   "metadata": {},
   "outputs": [],
   "source": [
    "x = np.linspace(-10, 10, 100)\n",
    "x"
   ]
  },
  {
   "cell_type": "code",
   "execution_count": null,
   "id": "e525871e",
   "metadata": {},
   "outputs": [],
   "source": [
    "y = x ** 2"
   ]
  },
  {
   "cell_type": "code",
   "execution_count": null,
   "id": "c9b2eab1",
   "metadata": {},
   "outputs": [],
   "source": [
    "y"
   ]
  },
  {
   "cell_type": "code",
   "execution_count": null,
   "id": "bf6b8ce9",
   "metadata": {},
   "outputs": [],
   "source": [
    "plt.plot(x, y)\n"
   ]
  },
  {
   "cell_type": "code",
   "execution_count": null,
   "id": "ebb17e45",
   "metadata": {},
   "outputs": [],
   "source": [
    "x = np.linspace(-3, 3, 300)\n",
    "y = np.floor(x)\n",
    "y2 = x ** 2\n",
    "plt.plot(x, y, marker=\"+\",label=\"floor(x)\")\n",
    "plt.plot(x, y2, c=\"r\", label=r\"$x^2$\")\n",
    "plt.legend()\n",
    "plt.show()"
   ]
  },
  {
   "cell_type": "code",
   "execution_count": null,
   "id": "f5cb3d5e",
   "metadata": {},
   "outputs": [],
   "source": [
    "np.random.seed(123)\n",
    "\n",
    "N = 50\n",
    "x = np.random.rand(N)\n",
    "y = np.random.rand(N)\n",
    "color = np.random.rand(N)\n",
    "area = (30 * np.random.rand(N))** 2\n",
    "plt.scatter(x, y, c=color, s=area, alpha=0.5)"
   ]
  },
  {
   "cell_type": "code",
   "execution_count": null,
   "id": "b79492a5",
   "metadata": {},
   "outputs": [],
   "source": [
    "plt.scatter(x, y, c=color, s=area, alpha=0.5, marker=r\"$\\clubsuit$\")"
   ]
  },
  {
   "cell_type": "code",
   "execution_count": null,
   "id": "5af88b32",
   "metadata": {},
   "outputs": [],
   "source": [
    "plt.scatter(x, y, c=color, s=area, alpha=0.5, marker=r\"$\\biguplus$\")"
   ]
  },
  {
   "cell_type": "code",
   "execution_count": null,
   "id": "2b4465f1",
   "metadata": {},
   "outputs": [],
   "source": [
    "np.random.seed()"
   ]
  },
  {
   "cell_type": "code",
   "execution_count": null,
   "id": "9e2e7355",
   "metadata": {},
   "outputs": [],
   "source": [
    "x = np.random.rand(N)\n",
    "y = np.random.rand(N)\n",
    "color = np.random.rand(N)\n",
    "area = (30 * np.random.rand(N))** 2\n",
    "plt.scatter(x, y, c=color, s=area, alpha=0.5)"
   ]
  },
  {
   "cell_type": "code",
   "execution_count": null,
   "id": "5e46879b",
   "metadata": {},
   "outputs": [],
   "source": [
    "!python -m pip install seaborn"
   ]
  },
  {
   "cell_type": "code",
   "execution_count": null,
   "id": "10ae4f12",
   "metadata": {},
   "outputs": [],
   "source": [
    "import seabo"
   ]
  },
  {
   "cell_type": "code",
   "execution_count": null,
   "id": "caaf2703",
   "metadata": {},
   "outputs": [],
   "source": [
    "import seaborn as sns\n",
    "import matplotlib.pyplot as plt"
   ]
  },
  {
   "cell_type": "code",
   "execution_count": null,
   "id": "03e80629",
   "metadata": {},
   "outputs": [],
   "source": [
    "sns.set_theme(style=\"ticks\")\n",
    "\n",
    "# Initialize the figure with a logarithmic x axis\n",
    "f, ax = plt.subplots(figsize=(7, 6))\n",
    "ax.set_xscale(\"log\")\n",
    "\n",
    "# Load the example planets dataset\n",
    "planets = sns.load_dataset(\"planets\")\n",
    "\n",
    "# Plot the orbital period with horizontal boxes\n",
    "sns.boxplot(x=\"distance\", y=\"method\", data=planets,\n",
    "            whis=[0, 100], width=.6, palette=\"vlag\")\n",
    "\n",
    "# Add in points to show each observation\n",
    "sns.stripplot(x=\"distance\", y=\"method\", data=planets,\n",
    "              size=4, color=\".3\", linewidth=0)\n",
    "\n",
    "# Tweak the visual presentation\n",
    "ax.xaxis.grid(True)\n",
    "ax.set(ylabel=\"\")\n",
    "sns.despine(trim=True, left=True)"
   ]
  },
  {
   "cell_type": "code",
   "execution_count": 2,
   "id": "f30df669",
   "metadata": {},
   "outputs": [
    {
     "name": "stdout",
     "output_type": "stream",
     "text": [
      "Dash is running on http://127.0.0.1:6000/\n",
      "\n",
      "Dash is running on http://127.0.0.1:6000/\n",
      "\n",
      " * Serving Flask app '__main__'\n",
      " * Debug mode: on\n"
     ]
    },
    {
     "name": "stderr",
     "output_type": "stream",
     "text": [
      "Traceback (most recent call last):\n",
      "  File \"/Users/rkorzen/PycharmProjects/szkolenia/python_bootcamp_08102022/dzien_09/jvenv/lib/python3.10/site-packages/ipykernel_launcher.py\", line 17, in <module>\n",
      "    app.launch_new_instance()\n",
      "  File \"/Users/rkorzen/PycharmProjects/szkolenia/python_bootcamp_08102022/dzien_09/jvenv/lib/python3.10/site-packages/traitlets/config/application.py\", line 981, in launch_instance\n",
      "    app.initialize(argv)\n",
      "  File \"/Users/rkorzen/PycharmProjects/szkolenia/python_bootcamp_08102022/dzien_09/jvenv/lib/python3.10/site-packages/traitlets/config/application.py\", line 110, in inner\n",
      "    return method(app, *args, **kwargs)\n",
      "  File \"/Users/rkorzen/PycharmProjects/szkolenia/python_bootcamp_08102022/dzien_09/jvenv/lib/python3.10/site-packages/ipykernel/kernelapp.py\", line 666, in initialize\n",
      "    self.init_sockets()\n",
      "  File \"/Users/rkorzen/PycharmProjects/szkolenia/python_bootcamp_08102022/dzien_09/jvenv/lib/python3.10/site-packages/ipykernel/kernelapp.py\", line 307, in init_sockets\n",
      "    self.shell_port = self._bind_socket(self.shell_socket, self.shell_port)\n",
      "  File \"/Users/rkorzen/PycharmProjects/szkolenia/python_bootcamp_08102022/dzien_09/jvenv/lib/python3.10/site-packages/ipykernel/kernelapp.py\", line 244, in _bind_socket\n",
      "    return self._try_bind_socket(s, port)\n",
      "  File \"/Users/rkorzen/PycharmProjects/szkolenia/python_bootcamp_08102022/dzien_09/jvenv/lib/python3.10/site-packages/ipykernel/kernelapp.py\", line 220, in _try_bind_socket\n",
      "    s.bind(\"tcp://%s:%i\" % (self.ip, port))\n",
      "  File \"/Users/rkorzen/PycharmProjects/szkolenia/python_bootcamp_08102022/dzien_09/jvenv/lib/python3.10/site-packages/zmq/sugar/socket.py\", line 232, in bind\n",
      "    super().bind(addr)\n",
      "  File \"zmq/backend/cython/socket.pyx\", line 568, in zmq.backend.cython.socket.Socket.bind\n",
      "  File \"zmq/backend/cython/checkrc.pxd\", line 28, in zmq.backend.cython.checkrc._check_rc\n",
      "zmq.error.ZMQError: Address already in use\n"
     ]
    },
    {
     "ename": "SystemExit",
     "evalue": "1",
     "output_type": "error",
     "traceback": [
      "An exception has occurred, use %tb to see the full traceback.\n",
      "\u001b[0;31mSystemExit\u001b[0m\u001b[0;31m:\u001b[0m 1\n"
     ]
    },
    {
     "name": "stderr",
     "output_type": "stream",
     "text": [
      "/Users/rkorzen/PycharmProjects/szkolenia/python_bootcamp_08102022/dzien_09/jvenv/lib/python3.10/site-packages/IPython/core/interactiveshell.py:3441: UserWarning:\n",
      "\n",
      "To exit: use 'exit', 'quit', or Ctrl-D.\n",
      "\n"
     ]
    }
   ],
   "source": [
    "from dash import Dash, dcc, html, Input, Output\n",
    "import plotly.express as px\n",
    "import json\n",
    "\n",
    "fig = px.line(\n",
    "    x=[\"a\",\"b\",\"c\"], y=[1,3,2], # replace with your own data source\n",
    "    title=\"sample figure\", height=325\n",
    ")\n",
    "\n",
    "app = Dash(__name__)\n",
    "\n",
    "app.layout = html.Div([\n",
    "    html.H4('Displaying figure structure as JSON'),\n",
    "    dcc.Graph(id=\"figure-structure-x-graph\", figure=fig),\n",
    "    dcc.Clipboard(target_id=\"structure\"),\n",
    "    html.Pre(\n",
    "        id='figure-structure-x-structure',\n",
    "        style={\n",
    "            'border': 'thin lightgrey solid', \n",
    "            'overflowY': 'scroll',\n",
    "            'height': '275px'\n",
    "        }\n",
    "    ),\n",
    "])\n",
    "\n",
    "\n",
    "@app.callback(\n",
    "    Output(\"figure-structure-x-structure\", \"children\"), \n",
    "    Input(\"figure-structure-x-graph\", \"figure\"))\n",
    "def display_structure(fig_json):\n",
    "    return json.dumps(fig_json, indent=2)\n",
    "\n",
    "\n",
    "if __name__ == \"__main__\":\n",
    "    app.run_server(debug=True, port=6000)\n"
   ]
  },
  {
   "cell_type": "code",
   "execution_count": null,
   "id": "532b3798",
   "metadata": {},
   "outputs": [],
   "source": []
  }
 ],
 "metadata": {
  "kernelspec": {
   "display_name": "Python 3 (ipykernel)",
   "language": "python",
   "name": "python3"
  },
  "language_info": {
   "codemirror_mode": {
    "name": "ipython",
    "version": 3
   },
   "file_extension": ".py",
   "mimetype": "text/x-python",
   "name": "python",
   "nbconvert_exporter": "python",
   "pygments_lexer": "ipython3",
   "version": "3.10.7"
  },
  "toc": {
   "base_numbering": 1,
   "nav_menu": {},
   "number_sections": true,
   "sideBar": true,
   "skip_h1_title": false,
   "title_cell": "Table of Contents",
   "title_sidebar": "Contents",
   "toc_cell": false,
   "toc_position": {},
   "toc_section_display": true,
   "toc_window_display": false
  }
 },
 "nbformat": 4,
 "nbformat_minor": 5
}
