{
 "cells": [
  {
   "cell_type": "code",
   "execution_count": 1,
   "id": "0a381700",
   "metadata": {},
   "outputs": [
    {
     "name": "stdout",
     "output_type": "stream",
     "text": [
      "Requirement already satisfied: numpy in ./jvenv/lib/python3.10/site-packages (1.23.5)\n"
     ]
    }
   ],
   "source": [
    "# !pip install numpy"
   ]
  },
  {
   "cell_type": "markdown",
   "id": "b0b207db-a29f-49e5-b2dc-fbe1e34daf25",
   "metadata": {},
   "source": [
    "# Numpy podstawy\n",
    "\n",
    "## Import"
   ]
  },
  {
   "cell_type": "code",
   "execution_count": 4,
   "id": "91600694-e07d-4cc8-9685-ff38b19253cd",
   "metadata": {},
   "outputs": [],
   "source": [
    "import numpy as np"
   ]
  },
  {
   "cell_type": "markdown",
   "id": "a545fe50-a353-4197-9007-9c2e5e540fc9",
   "metadata": {},
   "source": [
    "## Podstawy typ - array, ndarray"
   ]
  },
  {
   "cell_type": "code",
   "execution_count": 5,
   "id": "75af28ff-d2d6-49d1-8e41-76ce5b7de4e3",
   "metadata": {},
   "outputs": [
    {
     "data": {
      "text/plain": [
       "array([1, 2, 3, 4, 5, 6])"
      ]
     },
     "execution_count": 5,
     "metadata": {},
     "output_type": "execute_result"
    }
   ],
   "source": [
    "np.array([1, 2, 3, 4, 5, 6])"
   ]
  },
  {
   "cell_type": "code",
   "execution_count": 7,
   "id": "fcf07c21-7f33-40b0-b7db-751f7cc07068",
   "metadata": {},
   "outputs": [],
   "source": [
    "p = [1, 2, 3, 4, 5, 6]\n",
    "np_a = np.array(p)"
   ]
  },
  {
   "cell_type": "code",
   "execution_count": 8,
   "id": "827f1201-4726-483a-94e6-48b01384a626",
   "metadata": {},
   "outputs": [
    {
     "data": {
      "text/plain": [
       "[1, 2, 3, 4, 5, 6]"
      ]
     },
     "execution_count": 8,
     "metadata": {},
     "output_type": "execute_result"
    }
   ],
   "source": [
    "p"
   ]
  },
  {
   "cell_type": "code",
   "execution_count": 9,
   "id": "2957d17d-fe66-4c32-a414-f049ec8ecc64",
   "metadata": {},
   "outputs": [
    {
     "data": {
      "text/plain": [
       "array([1, 2, 3, 4, 5, 6])"
      ]
     },
     "execution_count": 9,
     "metadata": {},
     "output_type": "execute_result"
    }
   ],
   "source": [
    "np_a"
   ]
  },
  {
   "cell_type": "code",
   "execution_count": 10,
   "id": "acc4a326-8ed8-4fc6-9341-89eb45cba51f",
   "metadata": {},
   "outputs": [
    {
     "data": {
      "text/plain": [
       "array(['1', '2', '3'], dtype='<U21')"
      ]
     },
     "execution_count": 10,
     "metadata": {},
     "output_type": "execute_result"
    }
   ],
   "source": [
    "np.array([1, \"2\", 3])"
   ]
  },
  {
   "cell_type": "code",
   "execution_count": 12,
   "id": "ff38cd3c-55ad-435a-8221-6f46533f6e65",
   "metadata": {},
   "outputs": [],
   "source": [
    "x = np.array([1, 2.1, 3])"
   ]
  },
  {
   "cell_type": "code",
   "execution_count": 13,
   "id": "382a1f51-ac84-49a2-9c66-2f047d1c13cd",
   "metadata": {},
   "outputs": [
    {
     "data": {
      "text/plain": [
       "dtype('float64')"
      ]
     },
     "execution_count": 13,
     "metadata": {},
     "output_type": "execute_result"
    }
   ],
   "source": [
    "x.dtype"
   ]
  },
  {
   "cell_type": "code",
   "execution_count": 14,
   "id": "28ce762a-0a45-403e-ad41-658e97ed982b",
   "metadata": {},
   "outputs": [
    {
     "data": {
      "text/plain": [
       "dtype('int64')"
      ]
     },
     "execution_count": 14,
     "metadata": {},
     "output_type": "execute_result"
    }
   ],
   "source": [
    "np_a.dtype"
   ]
  },
  {
   "cell_type": "code",
   "execution_count": 15,
   "id": "f2f37f0a-0599-4550-bfed-923d557ce5ba",
   "metadata": {},
   "outputs": [
    {
     "data": {
      "text/plain": [
       "[1, 2, 1, 2, 1, 2, 1, 2, 1, 2, 1, 2, 1, 2, 1, 2, 1, 2, 1, 2]"
      ]
     },
     "execution_count": 15,
     "metadata": {},
     "output_type": "execute_result"
    }
   ],
   "source": [
    "[1, 2] * 10"
   ]
  },
  {
   "cell_type": "code",
   "execution_count": 16,
   "id": "bc1e60b8-61e9-4a7f-8201-22816eeff16a",
   "metadata": {},
   "outputs": [],
   "source": [
    "p = [1, 2, 3, 4, 5, 6] * 600000"
   ]
  },
  {
   "cell_type": "code",
   "execution_count": 23,
   "id": "6f171ddb-e9f2-42d9-b84a-818aee8089b1",
   "metadata": {},
   "outputs": [],
   "source": [
    "np_a = np.array(p, dtype=\"int8\")\n",
    "np_b = np.array(p, dtype=\"float64\")"
   ]
  },
  {
   "cell_type": "code",
   "execution_count": 21,
   "id": "c6d673ec-7132-4ca6-aac3-d2003673ce2f",
   "metadata": {},
   "outputs": [
    {
     "data": {
      "text/plain": [
       "array([1, 2, 3, ..., 4, 5, 6], dtype=int8)"
      ]
     },
     "execution_count": 21,
     "metadata": {},
     "output_type": "execute_result"
    }
   ],
   "source": [
    "np_a"
   ]
  },
  {
   "cell_type": "code",
   "execution_count": 27,
   "id": "5764a2a9-bb95-4331-b788-dd709bdbba44",
   "metadata": {},
   "outputs": [
    {
     "name": "stdout",
     "output_type": "stream",
     "text": [
      "116 ms ± 3.35 ms per loop (mean ± std. dev. of 7 runs, 10 loops each)\n"
     ]
    }
   ],
   "source": [
    "%timeit [i * 2 for i in p]"
   ]
  },
  {
   "cell_type": "code",
   "execution_count": 25,
   "id": "a7fa5a64-f7a5-4b5b-a44a-3ebd08a8c625",
   "metadata": {},
   "outputs": [
    {
     "name": "stdout",
     "output_type": "stream",
     "text": [
      "302 µs ± 33.4 µs per loop (mean ± std. dev. of 7 runs, 1,000 loops each)\n"
     ]
    }
   ],
   "source": [
    "%timeit np_a * 2"
   ]
  },
  {
   "cell_type": "code",
   "execution_count": 26,
   "id": "eba7177b-0c0c-48c4-8d3a-dc1bcf51e58f",
   "metadata": {},
   "outputs": [
    {
     "name": "stdout",
     "output_type": "stream",
     "text": [
      "3.23 ms ± 32.7 µs per loop (mean ± std. dev. of 7 runs, 100 loops each)\n"
     ]
    }
   ],
   "source": [
    "%timeit np_b * 2"
   ]
  },
  {
   "cell_type": "code",
   "execution_count": 28,
   "id": "0e9e9bdf-af73-4d8e-bac0-bafb85689f4d",
   "metadata": {},
   "outputs": [
    {
     "name": "stdout",
     "output_type": "stream",
     "text": [
      "16 ms ± 48.8 µs per loop (mean ± std. dev. of 7 runs, 100 loops each)\n"
     ]
    }
   ],
   "source": [
    "%timeit sum(p)"
   ]
  },
  {
   "cell_type": "code",
   "execution_count": 29,
   "id": "77b4def4-499d-4f5c-85f2-e23bacd047fb",
   "metadata": {},
   "outputs": [
    {
     "name": "stdout",
     "output_type": "stream",
     "text": [
      "2.2 ms ± 21.3 µs per loop (mean ± std. dev. of 7 runs, 100 loops each)\n"
     ]
    }
   ],
   "source": [
    "%timeit np_a.sum()"
   ]
  },
  {
   "cell_type": "code",
   "execution_count": 30,
   "id": "58642b12-156e-4067-8c23-8d68bdee6acc",
   "metadata": {},
   "outputs": [
    {
     "name": "stdout",
     "output_type": "stream",
     "text": [
      "1.53 ms ± 11.6 µs per loop (mean ± std. dev. of 7 runs, 1,000 loops each)\n"
     ]
    }
   ],
   "source": [
    "%timeit np_b.sum()"
   ]
  },
  {
   "cell_type": "code",
   "execution_count": 31,
   "id": "ab340416-bb36-4a68-b7ff-27aaa8a23fea",
   "metadata": {},
   "outputs": [],
   "source": [
    "import array"
   ]
  },
  {
   "cell_type": "code",
   "execution_count": 34,
   "id": "f8ae8ec8-f3e3-4d5c-926f-69ec70873542",
   "metadata": {},
   "outputs": [],
   "source": [
    "a_p = array.array(\"B\", p)"
   ]
  },
  {
   "cell_type": "code",
   "execution_count": 37,
   "id": "f83005f4-6d79-41fe-ae5e-9590e1da89f7",
   "metadata": {},
   "outputs": [
    {
     "name": "stdout",
     "output_type": "stream",
     "text": [
      "24.6 ms ± 761 µs per loop (mean ± std. dev. of 7 runs, 10 loops each)\n"
     ]
    }
   ],
   "source": [
    "%timeit sum(a_p)"
   ]
  },
  {
   "cell_type": "code",
   "execution_count": 43,
   "id": "1431848e-e2e2-451b-98d1-55ee32741032",
   "metadata": {},
   "outputs": [
    {
     "data": {
      "text/plain": [
       "[[0, 1], [2, 3], [4, 5]]"
      ]
     },
     "execution_count": 43,
     "metadata": {},
     "output_type": "execute_result"
    }
   ],
   "source": [
    "[[0, 1], [2, 3], [4, 5]]"
   ]
  },
  {
   "cell_type": "code",
   "execution_count": 41,
   "id": "ec1d1b5d-06ea-4385-ae5b-e09b7e0cffaf",
   "metadata": {},
   "outputs": [],
   "source": [
    "a = np.array([[0, 1], [2, 3], [4, 5]])"
   ]
  },
  {
   "cell_type": "code",
   "execution_count": 42,
   "id": "54694330-0713-4aeb-8256-6f8cdb373488",
   "metadata": {},
   "outputs": [
    {
     "data": {
      "text/plain": [
       "array([[0, 1],\n",
       "       [2, 3],\n",
       "       [4, 5]])"
      ]
     },
     "execution_count": 42,
     "metadata": {},
     "output_type": "execute_result"
    }
   ],
   "source": [
    "a"
   ]
  },
  {
   "cell_type": "code",
   "execution_count": 44,
   "id": "1786e201-ef2a-4cf1-b69d-73c17624c82a",
   "metadata": {},
   "outputs": [
    {
     "data": {
      "text/plain": [
       "numpy.ndarray"
      ]
     },
     "execution_count": 44,
     "metadata": {},
     "output_type": "execute_result"
    }
   ],
   "source": [
    "type(a)"
   ]
  },
  {
   "cell_type": "code",
   "execution_count": 45,
   "id": "c83781d2-0a8d-43e8-9f03-298429493220",
   "metadata": {},
   "outputs": [
    {
     "data": {
      "text/plain": [
       "array([[ 0,  5],\n",
       "       [10, 15],\n",
       "       [20, 25]])"
      ]
     },
     "execution_count": 45,
     "metadata": {},
     "output_type": "execute_result"
    }
   ],
   "source": [
    "a * 5"
   ]
  },
  {
   "cell_type": "code",
   "execution_count": 46,
   "id": "17f66385-07cd-494b-abc9-4e4a4479bd28",
   "metadata": {},
   "outputs": [],
   "source": [
    "b = np.array([[2, 3], [1, 2], [4, 5]])"
   ]
  },
  {
   "cell_type": "code",
   "execution_count": 47,
   "id": "d5f42389-b29e-4b84-b029-dc42861aae5d",
   "metadata": {},
   "outputs": [
    {
     "data": {
      "text/plain": [
       "array([[ 0,  3],\n",
       "       [ 2,  6],\n",
       "       [16, 25]])"
      ]
     },
     "execution_count": 47,
     "metadata": {},
     "output_type": "execute_result"
    }
   ],
   "source": [
    "a * b"
   ]
  },
  {
   "cell_type": "code",
   "execution_count": 48,
   "id": "ba8960c9-275b-4cda-9420-dc22a2362c2d",
   "metadata": {},
   "outputs": [
    {
     "data": {
      "text/plain": [
       "(array([[0, 1],\n",
       "        [2, 3],\n",
       "        [4, 5]]),\n",
       " array([[2, 3],\n",
       "        [1, 2],\n",
       "        [4, 5]]))"
      ]
     },
     "execution_count": 48,
     "metadata": {},
     "output_type": "execute_result"
    }
   ],
   "source": [
    "a, b"
   ]
  },
  {
   "cell_type": "code",
   "execution_count": 53,
   "id": "47bdbb37-f4e1-4be4-9542-f13557376b22",
   "metadata": {},
   "outputs": [
    {
     "data": {
      "text/plain": [
       "array([[ 0,  1],\n",
       "       [ 4,  6],\n",
       "       [12, 15]])"
      ]
     },
     "execution_count": 53,
     "metadata": {},
     "output_type": "execute_result"
    }
   ],
   "source": [
    "a * np.array([1, 2, 3]).reshape(3, 1)"
   ]
  },
  {
   "cell_type": "code",
   "execution_count": 50,
   "id": "6ecb4268-ce97-480e-825d-a5a827ed36d9",
   "metadata": {},
   "outputs": [
    {
     "data": {
      "text/plain": [
       "array([[0, 1],\n",
       "       [2, 3],\n",
       "       [4, 5]])"
      ]
     },
     "execution_count": 50,
     "metadata": {},
     "output_type": "execute_result"
    }
   ],
   "source": [
    "a"
   ]
  },
  {
   "cell_type": "code",
   "execution_count": 55,
   "id": "b8442d35-154c-466b-bbb2-da064758cd80",
   "metadata": {},
   "outputs": [
    {
     "data": {
      "text/plain": [
       "array([[1],\n",
       "       [2],\n",
       "       [3]])"
      ]
     },
     "execution_count": 55,
     "metadata": {},
     "output_type": "execute_result"
    }
   ],
   "source": [
    "np.array([1, 2, 3]).reshape(3, 1)"
   ]
  },
  {
   "cell_type": "code",
   "execution_count": 56,
   "id": "d3ce96d5-bd1c-473a-b106-a0d327b003ea",
   "metadata": {},
   "outputs": [
    {
     "data": {
      "text/plain": [
       "array([[0, 1],\n",
       "       [2, 3],\n",
       "       [4, 5]])"
      ]
     },
     "execution_count": 56,
     "metadata": {},
     "output_type": "execute_result"
    }
   ],
   "source": [
    "a"
   ]
  },
  {
   "cell_type": "code",
   "execution_count": 60,
   "id": "9ac00141-5e69-45ac-98c5-483771693da2",
   "metadata": {},
   "outputs": [
    {
     "data": {
      "text/plain": [
       "array([[0, 1, 2, 3, 4, 5]])"
      ]
     },
     "execution_count": 60,
     "metadata": {},
     "output_type": "execute_result"
    }
   ],
   "source": [
    "a.reshape(1, 6)"
   ]
  },
  {
   "cell_type": "code",
   "execution_count": 61,
   "id": "d707da98-1147-4bfc-a123-51571df44c02",
   "metadata": {},
   "outputs": [
    {
     "data": {
      "text/plain": [
       "(3, 2)"
      ]
     },
     "execution_count": 61,
     "metadata": {},
     "output_type": "execute_result"
    }
   ],
   "source": [
    "a.shape"
   ]
  },
  {
   "cell_type": "code",
   "execution_count": 62,
   "id": "f675aec2-6041-40fa-bf1e-8959ceaab19b",
   "metadata": {},
   "outputs": [
    {
     "data": {
      "text/plain": [
       "2"
      ]
     },
     "execution_count": 62,
     "metadata": {},
     "output_type": "execute_result"
    }
   ],
   "source": [
    "a.ndim"
   ]
  },
  {
   "cell_type": "code",
   "execution_count": 63,
   "id": "89942f35-68a3-4eb2-a9ef-8dc5d2a6d51d",
   "metadata": {},
   "outputs": [
    {
     "data": {
      "text/plain": [
       "6"
      ]
     },
     "execution_count": 63,
     "metadata": {},
     "output_type": "execute_result"
    }
   ],
   "source": [
    "a.size"
   ]
  },
  {
   "cell_type": "markdown",
   "id": "d2075f66-760e-466e-a8e6-4985b2e33c0d",
   "metadata": {},
   "source": [
    "### zeros"
   ]
  },
  {
   "cell_type": "code",
   "execution_count": 64,
   "id": "a95c5a20-2e03-4b1d-adc2-16902fe80efd",
   "metadata": {},
   "outputs": [
    {
     "data": {
      "text/plain": [
       "array([0., 0., 0., 0., 0.])"
      ]
     },
     "execution_count": 64,
     "metadata": {},
     "output_type": "execute_result"
    }
   ],
   "source": [
    "np.zeros(5)"
   ]
  },
  {
   "cell_type": "code",
   "execution_count": 70,
   "id": "691097de-d94f-4373-8e0a-9441d3bbc480",
   "metadata": {},
   "outputs": [],
   "source": [
    "x = np.zeros((5, 5), dtype=int)"
   ]
  },
  {
   "cell_type": "code",
   "execution_count": 71,
   "id": "2cdcec1a-0739-4768-bc7c-06ef56658b7c",
   "metadata": {},
   "outputs": [
    {
     "data": {
      "text/plain": [
       "dtype('int64')"
      ]
     },
     "execution_count": 71,
     "metadata": {},
     "output_type": "execute_result"
    }
   ],
   "source": [
    "x.dtype"
   ]
  },
  {
   "cell_type": "code",
   "execution_count": 72,
   "id": "5a7b0a3e-e2b0-4c09-bd2a-de42db6c3828",
   "metadata": {},
   "outputs": [
    {
     "data": {
      "text/plain": [
       "array([[[0., 0.],\n",
       "        [0., 0.],\n",
       "        [0., 0.]],\n",
       "\n",
       "       [[0., 0.],\n",
       "        [0., 0.],\n",
       "        [0., 0.]]])"
      ]
     },
     "execution_count": 72,
     "metadata": {},
     "output_type": "execute_result"
    }
   ],
   "source": [
    "np.zeros((2, 3, 2))"
   ]
  },
  {
   "cell_type": "markdown",
   "id": "665f1716-556d-4865-b11c-44035d534134",
   "metadata": {},
   "source": [
    "### ones"
   ]
  },
  {
   "cell_type": "code",
   "execution_count": 74,
   "id": "a128e397-e003-47a4-b8fe-29d994d60367",
   "metadata": {},
   "outputs": [
    {
     "data": {
      "text/plain": [
       "array([[[1., 1.],\n",
       "        [1., 1.],\n",
       "        [1., 1.]],\n",
       "\n",
       "       [[1., 1.],\n",
       "        [1., 1.],\n",
       "        [1., 1.]]])"
      ]
     },
     "execution_count": 74,
     "metadata": {},
     "output_type": "execute_result"
    }
   ],
   "source": [
    "np.ones((2, 3, 2))"
   ]
  },
  {
   "cell_type": "markdown",
   "id": "908d8575-b82f-4d6b-9f08-243ec8316fc5",
   "metadata": {},
   "source": [
    "###"
   ]
  },
  {
   "cell_type": "code",
   "execution_count": 75,
   "id": "9ddc8a0c-104b-4aca-a579-5af0fc228cd8",
   "metadata": {},
   "outputs": [
    {
     "data": {
      "text/plain": [
       "array([[1., 0., 0., 0., 0.],\n",
       "       [0., 1., 0., 0., 0.],\n",
       "       [0., 0., 1., 0., 0.],\n",
       "       [0., 0., 0., 1., 0.],\n",
       "       [0., 0., 0., 0., 1.]])"
      ]
     },
     "execution_count": 75,
     "metadata": {},
     "output_type": "execute_result"
    }
   ],
   "source": [
    "np.eye(5)"
   ]
  },
  {
   "cell_type": "markdown",
   "id": "5e7f5eda-1c30-4dc8-afb2-76f6f0398157",
   "metadata": {},
   "source": [
    "### arange and reshape"
   ]
  },
  {
   "cell_type": "code",
   "execution_count": 76,
   "id": "1fd29e89-c728-42ea-8b40-51f16f87ce5d",
   "metadata": {},
   "outputs": [
    {
     "data": {
      "text/plain": [
       "array([0, 1, 2, 3, 4])"
      ]
     },
     "execution_count": 76,
     "metadata": {},
     "output_type": "execute_result"
    }
   ],
   "source": [
    "np.arange(5)"
   ]
  },
  {
   "cell_type": "code",
   "execution_count": 77,
   "id": "0fca262a-3f57-462a-b7a8-f14715137bd8",
   "metadata": {},
   "outputs": [
    {
     "data": {
      "text/plain": [
       "array([0, 1, 2, 3, 4])"
      ]
     },
     "execution_count": 77,
     "metadata": {},
     "output_type": "execute_result"
    }
   ],
   "source": [
    "np.array(range(5))"
   ]
  },
  {
   "cell_type": "code",
   "execution_count": 79,
   "id": "996c562b-4236-4b23-b08f-53d7a177ea87",
   "metadata": {},
   "outputs": [
    {
     "data": {
      "text/plain": [
       "array([2, 3, 4])"
      ]
     },
     "execution_count": 79,
     "metadata": {},
     "output_type": "execute_result"
    }
   ],
   "source": [
    "np.arange(2, 5)"
   ]
  },
  {
   "cell_type": "code",
   "execution_count": 82,
   "id": "0848873c-06bc-4f65-9dcc-1cab0fb01ec0",
   "metadata": {},
   "outputs": [
    {
     "data": {
      "text/plain": [
       "array([ 0, 25, 50, 75])"
      ]
     },
     "execution_count": 82,
     "metadata": {},
     "output_type": "execute_result"
    }
   ],
   "source": [
    "np.arange(0, 100, 25)"
   ]
  },
  {
   "cell_type": "code",
   "execution_count": 83,
   "id": "a43669cd-12bb-4fe4-9101-cb2d688dc451",
   "metadata": {},
   "outputs": [
    {
     "data": {
      "text/plain": [
       "array([0.  , 0.25, 0.5 , 0.75, 1.  , 1.25, 1.5 , 1.75, 2.  , 2.25, 2.5 ,\n",
       "       2.75, 3.  , 3.25, 3.5 , 3.75, 4.  , 4.25, 4.5 , 4.75])"
      ]
     },
     "execution_count": 83,
     "metadata": {},
     "output_type": "execute_result"
    }
   ],
   "source": [
    "np.arange(0, 5, .25)"
   ]
  },
  {
   "cell_type": "code",
   "execution_count": 85,
   "id": "b2487a89-921f-41fa-bf8d-a00638580219",
   "metadata": {},
   "outputs": [
    {
     "data": {
      "text/plain": [
       "<function numpy.arange>"
      ]
     },
     "execution_count": 85,
     "metadata": {},
     "output_type": "execute_result"
    }
   ],
   "source": [
    "np.arange"
   ]
  },
  {
   "cell_type": "markdown",
   "id": "42cd51b2-1eec-4e9e-a76a-01ebb00ea3da",
   "metadata": {},
   "source": [
    "### linspace"
   ]
  },
  {
   "cell_type": "code",
   "execution_count": 89,
   "id": "56badf10-075c-43a0-bae6-08c9b22e8273",
   "metadata": {},
   "outputs": [],
   "source": [
    "x = np.linspace(0, 5, 21)"
   ]
  },
  {
   "cell_type": "code",
   "execution_count": 90,
   "id": "4b9078ee-6e27-4789-acf7-521050bbdc4c",
   "metadata": {},
   "outputs": [
    {
     "data": {
      "text/plain": [
       "(21,)"
      ]
     },
     "execution_count": 90,
     "metadata": {},
     "output_type": "execute_result"
    }
   ],
   "source": [
    "x.shape"
   ]
  },
  {
   "cell_type": "code",
   "execution_count": 91,
   "id": "36bb5bdc-b466-4a24-9e4e-6908b377d514",
   "metadata": {},
   "outputs": [
    {
     "data": {
      "text/plain": [
       "1"
      ]
     },
     "execution_count": 91,
     "metadata": {},
     "output_type": "execute_result"
    }
   ],
   "source": [
    "x.ndim"
   ]
  },
  {
   "cell_type": "markdown",
   "id": "5ee7bc05-5fb3-4004-9788-76c74871b1fa",
   "metadata": {},
   "source": [
    "Available dtypes:\n",
    "<table>\n",
    "<tr><th>type</th><th>description</th></tr>\n",
    "<tr><td>**bool**</td><td>Boolean (True or False) stored as a byte</td></tr>\n",
    "<tr><td>**int**</td><td>Default integer type (same as C long; normally either int64 or int32)</td></tr>\n",
    "<tr><td>**intc**</td><td>Identical to C int (normally int32 or int64)</td></tr>\n",
    "<tr><td>**intp**</td><td>Integer used for indexing (same as C ssize_t; normally either int32 or int64)</td></tr>\n",
    "<tr><td>**int8**</td><td>Byte (-128 to 127)</td></tr>\n",
    "<tr><td>**int16**</td><td>Integer (-32768 to 32767)</td></tr>\n",
    "<tr><td>**int32**</td><td>Integer (-2147483648 to 2147483647)</td></tr>\n",
    "<tr><td>**int64**</td><td>Integer (-9223372036854775808 to 9223372036854775807)</td></tr>\n",
    "<tr><td>**uint8**</td><td>Unsigned integer (0 to 255)</td></tr>\n",
    "<tr><td>**uint16**</td><td>Unsigned integer (0 to 65535)</td></tr>\n",
    "<tr><td>**uint32**</td><td>Unsigned integer (0 to 4294967295)</td></tr>\n",
    "<tr><td>**uint64**</td><td>Unsigned integer (0 to 18446744073709551615)</td></tr>\n",
    "<tr><td>**float**</td><td>Shorthand for float64.</td></tr>\n",
    "<tr><td>**float16**</td><td>Half precision float: sign bit, 5 bits exponent, 10 bits mantissa</td></tr>\n",
    "<tr><td>**float32**</td><td>Single precision float: sign bit, 8 bits exponent, 23 bits mantissa</td></tr>\n",
    "<tr><td>**float64**</td><td>Double precision float: sign bit, 11 bits exponent, 52 bits mantissa</td></tr>\n",
    "<tr><td>**complex**</td><td>Shorthand for complex128.</td></tr>\n",
    "<tr><td>**complex64**</td><td>Complex number, represented by two 32-bit floats (real and imaginary components)</td></tr>\n",
    "<tr><td>**complex128**</td><td>Complex number, represented by two 64-bit floats (real and imaginary components)</td></tr>\n",
    "</table>"
   ]
  },
  {
   "cell_type": "code",
   "execution_count": 92,
   "id": "661a73a7-cb6d-41f0-b574-eba4214a5664",
   "metadata": {},
   "outputs": [],
   "source": [
    "t = np.array([\"a\", \"b\"])"
   ]
  },
  {
   "cell_type": "code",
   "execution_count": 93,
   "id": "a245ae7b-eaff-4488-b349-40d78167053f",
   "metadata": {},
   "outputs": [
    {
     "data": {
      "text/plain": [
       "array(['a', 'b'], dtype='<U1')"
      ]
     },
     "execution_count": 93,
     "metadata": {},
     "output_type": "execute_result"
    }
   ],
   "source": [
    "t"
   ]
  },
  {
   "cell_type": "code",
   "execution_count": 95,
   "id": "2a7a74cb-6504-432f-9465-ef55dbf4ce97",
   "metadata": {},
   "outputs": [
    {
     "data": {
      "text/plain": [
       "array([[2., 3.],\n",
       "       [1., 2.],\n",
       "       [4., 5.]])"
      ]
     },
     "execution_count": 95,
     "metadata": {},
     "output_type": "execute_result"
    }
   ],
   "source": [
    "b.astype(float)"
   ]
  },
  {
   "cell_type": "code",
   "execution_count": 96,
   "id": "acb7606d-405b-4f0b-83b6-46aebd6a34a4",
   "metadata": {},
   "outputs": [
    {
     "data": {
      "text/plain": [
       "array([  500, 10000])"
      ]
     },
     "execution_count": 96,
     "metadata": {},
     "output_type": "execute_result"
    }
   ],
   "source": [
    "d = np.array([500, 10000])\n",
    "d"
   ]
  },
  {
   "cell_type": "code",
   "execution_count": 97,
   "id": "d19f6dc6-36b1-403b-a82a-cb98759cab57",
   "metadata": {},
   "outputs": [
    {
     "data": {
      "text/plain": [
       "dtype('int64')"
      ]
     },
     "execution_count": 97,
     "metadata": {},
     "output_type": "execute_result"
    }
   ],
   "source": [
    "d.dtype"
   ]
  },
  {
   "cell_type": "code",
   "execution_count": 98,
   "id": "a623e336-8199-419d-927d-4479bad41fab",
   "metadata": {},
   "outputs": [
    {
     "data": {
      "text/plain": [
       "array([-12,  16], dtype=int8)"
      ]
     },
     "execution_count": 98,
     "metadata": {},
     "output_type": "execute_result"
    }
   ],
   "source": [
    "d.astype(np.int8)"
   ]
  },
  {
   "cell_type": "code",
   "execution_count": 99,
   "id": "6d141d8f-23e5-4355-8300-4c20763b7efa",
   "metadata": {},
   "outputs": [
    {
     "data": {
      "text/plain": [
       "iinfo(min=-128, max=127, dtype=int8)"
      ]
     },
     "execution_count": 99,
     "metadata": {},
     "output_type": "execute_result"
    }
   ],
   "source": [
    "np.iinfo(np.int8)"
   ]
  },
  {
   "cell_type": "code",
   "execution_count": 100,
   "id": "faaa905d-8463-479a-a7ce-638c192dd81c",
   "metadata": {},
   "outputs": [
    {
     "data": {
      "text/plain": [
       "iinfo(min=0, max=255, dtype=uint8)"
      ]
     },
     "execution_count": 100,
     "metadata": {},
     "output_type": "execute_result"
    }
   ],
   "source": [
    "np.iinfo(np.uint8)"
   ]
  },
  {
   "cell_type": "code",
   "execution_count": 101,
   "id": "0f8ef5ed-82f0-49dd-9442-899f04ba3b87",
   "metadata": {},
   "outputs": [
    {
     "data": {
      "text/plain": [
       "iinfo(min=0, max=4294967295, dtype=uint32)"
      ]
     },
     "execution_count": 101,
     "metadata": {},
     "output_type": "execute_result"
    }
   ],
   "source": [
    "np.iinfo(np.uint32)"
   ]
  },
  {
   "cell_type": "code",
   "execution_count": 102,
   "id": "e8a93f36-75bd-4218-bfad-643600ac9afb",
   "metadata": {},
   "outputs": [
    {
     "data": {
      "text/plain": [
       "4294967295"
      ]
     },
     "execution_count": 102,
     "metadata": {},
     "output_type": "execute_result"
    }
   ],
   "source": [
    "np.iinfo(np.uint32).max"
   ]
  },
  {
   "cell_type": "code",
   "execution_count": 103,
   "id": "2ef93f01-e547-4b76-a55a-cf4dbec471fc",
   "metadata": {},
   "outputs": [
    {
     "data": {
      "text/plain": [
       "array([  500, 10000])"
      ]
     },
     "execution_count": 103,
     "metadata": {},
     "output_type": "execute_result"
    }
   ],
   "source": [
    "d"
   ]
  },
  {
   "cell_type": "code",
   "execution_count": 104,
   "id": "c0375407-d0cb-42bf-afa4-346b15faab2b",
   "metadata": {},
   "outputs": [
    {
     "name": "stdout",
     "output_type": "stream",
     "text": [
      "Niebezpiecznie\n"
     ]
    }
   ],
   "source": [
    "if d.max() <= np.iinfo(np.int8).max:\n",
    "    d = d.astype(np.int8)\n",
    "else:\n",
    "    print(\"Niebezpiecznie\")"
   ]
  },
  {
   "cell_type": "code",
   "execution_count": 106,
   "id": "ba6ab7c1-1088-4193-8dac-774e493b08c3",
   "metadata": {},
   "outputs": [
    {
     "data": {
      "text/plain": [
       "finfo(resolution=1e-06, min=-3.4028235e+38, max=3.4028235e+38, dtype=float32)"
      ]
     },
     "execution_count": 106,
     "metadata": {},
     "output_type": "execute_result"
    }
   ],
   "source": [
    "np.finfo(np.float32)"
   ]
  },
  {
   "cell_type": "code",
   "execution_count": 109,
   "id": "0d936827-4d60-4174-a3eb-1a075e963fa6",
   "metadata": {},
   "outputs": [
    {
     "data": {
      "text/plain": [
       "8"
      ]
     },
     "execution_count": 109,
     "metadata": {},
     "output_type": "execute_result"
    }
   ],
   "source": [
    "d.itemsize"
   ]
  },
  {
   "cell_type": "code",
   "execution_count": 110,
   "id": "99692f41-bd39-40c0-b98a-f9bd707c080f",
   "metadata": {},
   "outputs": [],
   "source": [
    "a = np.arange(10000).reshape((100, 100))"
   ]
  },
  {
   "cell_type": "code",
   "execution_count": 111,
   "id": "9cd08374-f629-41da-a2e8-ea1853e521e2",
   "metadata": {},
   "outputs": [
    {
     "data": {
      "text/plain": [
       "array([[   0,    1,    2, ...,   97,   98,   99],\n",
       "       [ 100,  101,  102, ...,  197,  198,  199],\n",
       "       [ 200,  201,  202, ...,  297,  298,  299],\n",
       "       ...,\n",
       "       [9700, 9701, 9702, ..., 9797, 9798, 9799],\n",
       "       [9800, 9801, 9802, ..., 9897, 9898, 9899],\n",
       "       [9900, 9901, 9902, ..., 9997, 9998, 9999]])"
      ]
     },
     "execution_count": 111,
     "metadata": {},
     "output_type": "execute_result"
    }
   ],
   "source": [
    "a"
   ]
  },
  {
   "cell_type": "code",
   "execution_count": 118,
   "id": "2b4e154c-e447-41c9-9a5b-d326869dd237",
   "metadata": {},
   "outputs": [],
   "source": [
    "np.set_printoptions(threshold=100)"
   ]
  },
  {
   "cell_type": "code",
   "execution_count": 119,
   "id": "6e1c9f65-5967-4573-b5d1-d6f0bc5fcc0a",
   "metadata": {},
   "outputs": [
    {
     "data": {
      "text/plain": [
       "array([[   0,    1,    2, ...,   97,   98,   99],\n",
       "       [ 100,  101,  102, ...,  197,  198,  199],\n",
       "       [ 200,  201,  202, ...,  297,  298,  299],\n",
       "       ...,\n",
       "       [9700, 9701, 9702, ..., 9797, 9798, 9799],\n",
       "       [9800, 9801, 9802, ..., 9897, 9898, 9899],\n",
       "       [9900, 9901, 9902, ..., 9997, 9998, 9999]])"
      ]
     },
     "execution_count": 119,
     "metadata": {},
     "output_type": "execute_result"
    }
   ],
   "source": [
    "a"
   ]
  },
  {
   "cell_type": "markdown",
   "id": "4e2d6a22-65a4-4a63-94a8-dc0a28d6ef12",
   "metadata": {},
   "source": [
    "### Podstawowe operacje"
   ]
  },
  {
   "cell_type": "code",
   "execution_count": 120,
   "id": "d144774f-bf97-40ea-82d9-e44fc1b59822",
   "metadata": {},
   "outputs": [],
   "source": [
    "a = np.array([20, 30, 40, 50])"
   ]
  },
  {
   "cell_type": "code",
   "execution_count": 123,
   "id": "e0317e3a-3749-4aa3-bfce-c6678d07dae3",
   "metadata": {},
   "outputs": [
    {
     "data": {
      "text/plain": [
       "array([0, 1, 2, 3])"
      ]
     },
     "execution_count": 123,
     "metadata": {},
     "output_type": "execute_result"
    }
   ],
   "source": [
    "b = np.arange(4)\n",
    "b"
   ]
  },
  {
   "cell_type": "code",
   "execution_count": 122,
   "id": "9a8d2f0f-247c-443a-aad1-b6fa067c58df",
   "metadata": {},
   "outputs": [
    {
     "data": {
      "text/plain": [
       "array([20, 29, 38, 47])"
      ]
     },
     "execution_count": 122,
     "metadata": {},
     "output_type": "execute_result"
    }
   ],
   "source": [
    "a - b"
   ]
  },
  {
   "cell_type": "code",
   "execution_count": 124,
   "id": "6785f25c-a94f-48c4-9a1d-4f2a5babf120",
   "metadata": {},
   "outputs": [
    {
     "data": {
      "text/plain": [
       "array([20, 31, 42, 53])"
      ]
     },
     "execution_count": 124,
     "metadata": {},
     "output_type": "execute_result"
    }
   ],
   "source": [
    "a + b"
   ]
  },
  {
   "cell_type": "code",
   "execution_count": 125,
   "id": "87b8b683-6eb5-40f8-ac21-6f5c54200cd9",
   "metadata": {},
   "outputs": [
    {
     "data": {
      "text/plain": [
       "array([  0,  30,  80, 150])"
      ]
     },
     "execution_count": 125,
     "metadata": {},
     "output_type": "execute_result"
    }
   ],
   "source": [
    "a  * b"
   ]
  },
  {
   "cell_type": "code",
   "execution_count": 126,
   "id": "07376bfd-0eaf-48c9-afe3-a166434c6fa3",
   "metadata": {},
   "outputs": [
    {
     "data": {
      "text/plain": [
       "array([0, 1, 4, 9])"
      ]
     },
     "execution_count": 126,
     "metadata": {},
     "output_type": "execute_result"
    }
   ],
   "source": [
    "b ** 2"
   ]
  },
  {
   "cell_type": "code",
   "execution_count": 127,
   "id": "cb03ea3b-796d-42f9-8dae-a8d9d5f9c5d1",
   "metadata": {},
   "outputs": [
    {
     "data": {
      "text/plain": [
       "array([ 0.91294525, -0.98803162,  0.74511316, -0.26237485])"
      ]
     },
     "execution_count": 127,
     "metadata": {},
     "output_type": "execute_result"
    }
   ],
   "source": [
    "np.sin(a)"
   ]
  },
  {
   "cell_type": "code",
   "execution_count": 131,
   "id": "c7a30aa0-6f09-4408-b4fa-8f3d24af7ada",
   "metadata": {},
   "outputs": [],
   "source": [
    "A = np.array([\n",
    "[1, 1],\n",
    "[0, 1]\n",
    "])\n",
    "\n",
    "B = np.array([[2, 0], \n",
    "             [3, 4]])"
   ]
  },
  {
   "cell_type": "code",
   "execution_count": 132,
   "id": "65dfbedf-ed2c-4475-a014-533471afe9db",
   "metadata": {},
   "outputs": [
    {
     "data": {
      "text/plain": [
       "(array([[1, 1],\n",
       "        [0, 1]]),\n",
       " array([[2, 0],\n",
       "        [3, 4]]))"
      ]
     },
     "execution_count": 132,
     "metadata": {},
     "output_type": "execute_result"
    }
   ],
   "source": [
    "A, B"
   ]
  },
  {
   "cell_type": "code",
   "execution_count": 133,
   "id": "09f59a71-2f15-40c5-9909-0e8f3f268745",
   "metadata": {},
   "outputs": [
    {
     "data": {
      "text/plain": [
       "array([[2, 0],\n",
       "       [0, 4]])"
      ]
     },
     "execution_count": 133,
     "metadata": {},
     "output_type": "execute_result"
    }
   ],
   "source": [
    "A * B"
   ]
  },
  {
   "cell_type": "code",
   "execution_count": 134,
   "id": "64420ab9-43f4-467b-a192-d2ccd4940f9a",
   "metadata": {},
   "outputs": [
    {
     "data": {
      "text/plain": [
       "array([[5, 4],\n",
       "       [3, 4]])"
      ]
     },
     "execution_count": 134,
     "metadata": {},
     "output_type": "execute_result"
    }
   ],
   "source": [
    "A.dot(B)"
   ]
  },
  {
   "cell_type": "code",
   "execution_count": 135,
   "id": "15afe0b1-e320-4a75-89b1-0321411b90e8",
   "metadata": {},
   "outputs": [],
   "source": [
    "minus_inf = float(\"-inf\")"
   ]
  },
  {
   "cell_type": "code",
   "execution_count": 136,
   "id": "23a75e0e-f2ed-4544-b71a-398cf4c842b9",
   "metadata": {},
   "outputs": [
    {
     "data": {
      "text/plain": [
       "-inf"
      ]
     },
     "execution_count": 136,
     "metadata": {},
     "output_type": "execute_result"
    }
   ],
   "source": [
    "minus_inf"
   ]
  },
  {
   "cell_type": "code",
   "execution_count": 137,
   "id": "fd500919-67f1-4755-ae47-cbdc067af139",
   "metadata": {},
   "outputs": [],
   "source": [
    "plus_inf = float(\"inf\")"
   ]
  },
  {
   "cell_type": "code",
   "execution_count": 138,
   "id": "f96139ed-42e0-4855-94c0-83cfadbd897d",
   "metadata": {},
   "outputs": [
    {
     "data": {
      "text/plain": [
       "inf"
      ]
     },
     "execution_count": 138,
     "metadata": {},
     "output_type": "execute_result"
    }
   ],
   "source": [
    "plus_inf"
   ]
  },
  {
   "cell_type": "code",
   "execution_count": 139,
   "id": "3638739c-7b1d-4927-81a4-2803fd04acdd",
   "metadata": {},
   "outputs": [
    {
     "data": {
      "text/plain": [
       "True"
      ]
     },
     "execution_count": 139,
     "metadata": {},
     "output_type": "execute_result"
    }
   ],
   "source": [
    " minus_inf < 3000 < plus_inf"
   ]
  },
  {
   "cell_type": "code",
   "execution_count": 140,
   "id": "149e64ec-0e84-4b6a-b65e-a72e00ce7d34",
   "metadata": {},
   "outputs": [
    {
     "data": {
      "text/plain": [
       "True"
      ]
     },
     "execution_count": 140,
     "metadata": {},
     "output_type": "execute_result"
    }
   ],
   "source": [
    " minus_inf < 0 < plus_inf"
   ]
  },
  {
   "cell_type": "code",
   "execution_count": 141,
   "id": "cf517eb0-7e4b-4569-be7e-e2558dda884d",
   "metadata": {},
   "outputs": [
    {
     "data": {
      "text/plain": [
       "True"
      ]
     },
     "execution_count": 141,
     "metadata": {},
     "output_type": "execute_result"
    }
   ],
   "source": [
    " minus_inf < -3000 < plus_inf"
   ]
  },
  {
   "cell_type": "code",
   "execution_count": 142,
   "id": "70158f5e-675c-4ebf-8e2a-881e3d6840e4",
   "metadata": {},
   "outputs": [],
   "source": [
    "nan = float(\"nan\")"
   ]
  },
  {
   "cell_type": "code",
   "execution_count": 143,
   "id": "f3ea98c2-ba95-4fc6-8e30-15ab54f1f17f",
   "metadata": {},
   "outputs": [
    {
     "data": {
      "text/plain": [
       "nan"
      ]
     },
     "execution_count": 143,
     "metadata": {},
     "output_type": "execute_result"
    }
   ],
   "source": [
    "nan"
   ]
  },
  {
   "cell_type": "code",
   "execution_count": 144,
   "id": "5dfdb53e-7243-4cf9-ad07-8a9f1471f61f",
   "metadata": {},
   "outputs": [
    {
     "data": {
      "text/plain": [
       "False"
      ]
     },
     "execution_count": 144,
     "metadata": {},
     "output_type": "execute_result"
    }
   ],
   "source": [
    " minus_inf < nan < plus_inf"
   ]
  },
  {
   "cell_type": "code",
   "execution_count": 145,
   "id": "e3d5e98f-cff2-4ee9-bf59-063851054456",
   "metadata": {},
   "outputs": [
    {
     "data": {
      "text/plain": [
       "False"
      ]
     },
     "execution_count": 145,
     "metadata": {},
     "output_type": "execute_result"
    }
   ],
   "source": [
    "nan == nan"
   ]
  },
  {
   "cell_type": "code",
   "execution_count": 147,
   "id": "98dfa8af-5ee9-479c-b65a-c532a04ca4b7",
   "metadata": {},
   "outputs": [
    {
     "data": {
      "text/plain": [
       "inf"
      ]
     },
     "execution_count": 147,
     "metadata": {},
     "output_type": "execute_result"
    }
   ],
   "source": [
    "plus_inf + plus_inf"
   ]
  },
  {
   "cell_type": "code",
   "execution_count": 148,
   "id": "8c3a5b23-4800-45f2-8e05-e6b2d888d6dd",
   "metadata": {},
   "outputs": [
    {
     "data": {
      "text/plain": [
       "True"
      ]
     },
     "execution_count": 148,
     "metadata": {},
     "output_type": "execute_result"
    }
   ],
   "source": [
    "np.isnan(nan)"
   ]
  },
  {
   "cell_type": "code",
   "execution_count": 150,
   "id": "1b849ae1-29b3-418d-8f01-2303e5800e9e",
   "metadata": {},
   "outputs": [
    {
     "data": {
      "text/plain": [
       "False"
      ]
     },
     "execution_count": 150,
     "metadata": {},
     "output_type": "execute_result"
    }
   ],
   "source": [
    "np.isnan(0)"
   ]
  },
  {
   "cell_type": "code",
   "execution_count": 153,
   "id": "7c69c864-80b2-454c-9723-3ff40598d33b",
   "metadata": {},
   "outputs": [
    {
     "data": {
      "text/plain": [
       "9"
      ]
     },
     "execution_count": 153,
     "metadata": {},
     "output_type": "execute_result"
    }
   ],
   "source": [
    "B.sum()"
   ]
  },
  {
   "cell_type": "code",
   "execution_count": 154,
   "id": "862a6c1a-e82e-4f1b-bc65-032c88a1a9d1",
   "metadata": {},
   "outputs": [
    {
     "data": {
      "text/plain": [
       "4"
      ]
     },
     "execution_count": 154,
     "metadata": {},
     "output_type": "execute_result"
    }
   ],
   "source": [
    "B.max()"
   ]
  },
  {
   "cell_type": "code",
   "execution_count": 156,
   "id": "7708bf97-310a-494d-a200-565dfd2bdf43",
   "metadata": {},
   "outputs": [
    {
     "data": {
      "text/plain": [
       "0"
      ]
     },
     "execution_count": 156,
     "metadata": {},
     "output_type": "execute_result"
    }
   ],
   "source": [
    "B.min()"
   ]
  },
  {
   "cell_type": "code",
   "execution_count": 157,
   "id": "cf38cd3e-0e87-4344-8742-5526ce15df44",
   "metadata": {},
   "outputs": [
    {
     "data": {
      "text/plain": [
       "array([0, 3])"
      ]
     },
     "execution_count": 157,
     "metadata": {},
     "output_type": "execute_result"
    }
   ],
   "source": [
    "B.min(axis=1)"
   ]
  },
  {
   "cell_type": "code",
   "execution_count": 158,
   "id": "5ac6430b-a482-4cce-99cc-8be4d471587f",
   "metadata": {},
   "outputs": [
    {
     "data": {
      "text/plain": [
       "array([[2, 0],\n",
       "       [3, 4]])"
      ]
     },
     "execution_count": 158,
     "metadata": {},
     "output_type": "execute_result"
    }
   ],
   "source": [
    "B"
   ]
  },
  {
   "cell_type": "code",
   "execution_count": 159,
   "id": "3a520305-1557-44cd-895a-f4d7320914d8",
   "metadata": {},
   "outputs": [
    {
     "data": {
      "text/plain": [
       "array([2, 0])"
      ]
     },
     "execution_count": 159,
     "metadata": {},
     "output_type": "execute_result"
    }
   ],
   "source": [
    "B.min(axis=0)"
   ]
  },
  {
   "cell_type": "markdown",
   "id": "7cb61993-51c3-48f4-986e-59c5c02785e5",
   "metadata": {},
   "source": [
    "# Item layout\n",
    "\n",
    "\n",
    "                  shape[1]\n",
    "                     (=3)\n",
    "                ┌───────────┐\n",
    "\n",
    "             ┌  ┌───┬───┬───┐  ┐\n",
    "             │  │ 0 │ 1 │ 2 │  │\n",
    "             │  ├───┼───┼───┤  │\n",
    "    shape[0] │  │ 3 │ 4 │ 5 │  │ len(Z)\n",
    "     (=3)    │  ├───┼───┼───┤  │  (=3)\n",
    "             │  │ 6 │ 7 │ 8 │  │\n",
    "             └  └───┴───┴───┘  ┘"
   ]
  },
  {
   "cell_type": "code",
   "execution_count": 164,
   "id": "f05d4a04-5358-4f3b-8cb6-fb3c2ee37677",
   "metadata": {},
   "outputs": [],
   "source": [
    "l = np.arange(50).reshape(5, 10)"
   ]
  },
  {
   "cell_type": "code",
   "execution_count": 162,
   "id": "89a3c64b-7985-4635-91cb-d16cbc2dd7e2",
   "metadata": {},
   "outputs": [],
   "source": [
    "ll = [[ 0,  1,  2,  3,  4,  5,  6,  7,  8,  9],\n",
    "       [10, 11, 12, 13, 14, 15, 16, 17, 18, 19],\n",
    "       [20, 21, 22, 23, 24, 25, 26, 27, 28, 29],\n",
    "       [30, 31, 32, 33, 34, 35, 36, 37, 38, 39],\n",
    "       [40, 41, 42, 43, 44, 45, 46, 47, 48, 49]]"
   ]
  },
  {
   "cell_type": "code",
   "execution_count": 163,
   "id": "1a49d427-a2b0-48a3-b27c-ae2cc4e96987",
   "metadata": {},
   "outputs": [
    {
     "data": {
      "text/plain": [
       "5"
      ]
     },
     "execution_count": 163,
     "metadata": {},
     "output_type": "execute_result"
    }
   ],
   "source": [
    "len(ll)"
   ]
  },
  {
   "cell_type": "code",
   "execution_count": 165,
   "id": "a7e907e4-cabf-4842-b14a-c80a2ec5fbfe",
   "metadata": {},
   "outputs": [
    {
     "data": {
      "text/plain": [
       "5"
      ]
     },
     "execution_count": 165,
     "metadata": {},
     "output_type": "execute_result"
    }
   ],
   "source": [
    "len(l)"
   ]
  },
  {
   "cell_type": "code",
   "execution_count": 166,
   "id": "689db9a4-2d3a-42db-835f-306731a073cd",
   "metadata": {},
   "outputs": [
    {
     "data": {
      "text/plain": [
       "(5, 10)"
      ]
     },
     "execution_count": 166,
     "metadata": {},
     "output_type": "execute_result"
    }
   ],
   "source": [
    "l.shape"
   ]
  },
  {
   "cell_type": "code",
   "execution_count": 168,
   "id": "b670c59b-84ee-4cdf-9e77-0e8b20b7ceb3",
   "metadata": {},
   "outputs": [
    {
     "data": {
      "text/plain": [
       "array([ 0,  1,  2,  3,  4,  5,  6,  7,  8,  9, 10, 11, 12, 13, 14, 15, 16,\n",
       "       17, 18, 19, 20, 21, 22, 23, 24, 25, 26, 27, 28, 29, 30, 31, 32, 33,\n",
       "       34, 35, 36, 37, 38, 39, 40, 41, 42, 43, 44, 45, 46, 47, 48, 49])"
      ]
     },
     "execution_count": 168,
     "metadata": {},
     "output_type": "execute_result"
    }
   ],
   "source": [
    "l.flatten()"
   ]
  },
  {
   "cell_type": "markdown",
   "id": "9a7e134d-d223-4fc4-a32f-f04e003e6eaf",
   "metadata": {},
   "source": [
    "### Upcasting, Broadcasting"
   ]
  },
  {
   "cell_type": "code",
   "execution_count": 170,
   "id": "21825e94-777e-4b56-b10d-e19f0100f84f",
   "metadata": {},
   "outputs": [
    {
     "data": {
      "text/plain": [
       "array([1, 1, 1], dtype=int32)"
      ]
     },
     "execution_count": 170,
     "metadata": {},
     "output_type": "execute_result"
    }
   ],
   "source": [
    "a = np.ones(3, dtype=np.int32)\n",
    "a"
   ]
  },
  {
   "cell_type": "code",
   "execution_count": 171,
   "id": "4b50c3cf-70eb-49ae-94c8-05ea227b732f",
   "metadata": {},
   "outputs": [],
   "source": [
    "b = np.linspace(0, np.pi, 3)"
   ]
  },
  {
   "cell_type": "code",
   "execution_count": 172,
   "id": "7b1b046d-c2a1-4f41-b07e-f3ef6bc71e81",
   "metadata": {},
   "outputs": [
    {
     "data": {
      "text/plain": [
       "array([0.        , 1.57079633, 3.14159265])"
      ]
     },
     "execution_count": 172,
     "metadata": {},
     "output_type": "execute_result"
    }
   ],
   "source": [
    "b"
   ]
  },
  {
   "cell_type": "code",
   "execution_count": 173,
   "id": "03551401-c5fa-42fa-9cf9-1887b54af0bc",
   "metadata": {},
   "outputs": [
    {
     "data": {
      "text/plain": [
       "array([1.        , 2.57079633, 4.14159265])"
      ]
     },
     "execution_count": 173,
     "metadata": {},
     "output_type": "execute_result"
    }
   ],
   "source": [
    "a + b"
   ]
  },
  {
   "cell_type": "code",
   "execution_count": 175,
   "id": "8c4f1157-1e2f-4bc3-8f4e-598f61c84aca",
   "metadata": {},
   "outputs": [
    {
     "data": {
      "text/plain": [
       "array([4, 4, 4])"
      ]
     },
     "execution_count": 175,
     "metadata": {},
     "output_type": "execute_result"
    }
   ],
   "source": [
    "a + np.array([3, 3, 3])"
   ]
  },
  {
   "cell_type": "code",
   "execution_count": 176,
   "id": "55aef887-164b-4fa4-8919-2d5a1d8233e8",
   "metadata": {},
   "outputs": [
    {
     "data": {
      "text/plain": [
       "array([[1., 1., 1.],\n",
       "       [1., 1., 1.],\n",
       "       [1., 1., 1.]])"
      ]
     },
     "execution_count": 176,
     "metadata": {},
     "output_type": "execute_result"
    }
   ],
   "source": [
    "M  = np.ones((3, 3))\n",
    "M"
   ]
  },
  {
   "cell_type": "code",
   "execution_count": 177,
   "id": "5efb4258-04e8-4c9f-a2c7-7fb9f5c29fb9",
   "metadata": {},
   "outputs": [
    {
     "data": {
      "text/plain": [
       "array([[2., 2., 2.],\n",
       "       [2., 2., 2.],\n",
       "       [2., 2., 2.]])"
      ]
     },
     "execution_count": 177,
     "metadata": {},
     "output_type": "execute_result"
    }
   ],
   "source": [
    "M + a"
   ]
  },
  {
   "cell_type": "code",
   "execution_count": 178,
   "id": "76d47e05-13ab-404e-8fd1-fe80bec399a0",
   "metadata": {},
   "outputs": [],
   "source": [
    "c = np.array([1, 2])"
   ]
  },
  {
   "cell_type": "code",
   "execution_count": 179,
   "id": "a8805513-257f-4f99-954a-6faf77b675b9",
   "metadata": {},
   "outputs": [
    {
     "data": {
      "text/plain": [
       "(array([[1., 1., 1.],\n",
       "        [1., 1., 1.],\n",
       "        [1., 1., 1.]]),\n",
       " array([1, 2]))"
      ]
     },
     "execution_count": 179,
     "metadata": {},
     "output_type": "execute_result"
    }
   ],
   "source": [
    "M, c"
   ]
  },
  {
   "cell_type": "code",
   "execution_count": 180,
   "id": "5892d3bf-9c33-462c-b035-ecdeffe18560",
   "metadata": {},
   "outputs": [
    {
     "ename": "ValueError",
     "evalue": "operands could not be broadcast together with shapes (3,3) (2,) ",
     "output_type": "error",
     "traceback": [
      "\u001b[0;31m---------------------------------------------------------------------------\u001b[0m",
      "\u001b[0;31mValueError\u001b[0m                                Traceback (most recent call last)",
      "Cell \u001b[0;32mIn [180], line 1\u001b[0m\n\u001b[0;32m----> 1\u001b[0m \u001b[43mM\u001b[49m\u001b[43m \u001b[49m\u001b[38;5;241;43m+\u001b[39;49m\u001b[43m \u001b[49m\u001b[43mc\u001b[49m\n",
      "\u001b[0;31mValueError\u001b[0m: operands could not be broadcast together with shapes (3,3) (2,) "
     ]
    }
   ],
   "source": [
    "M + c"
   ]
  },
  {
   "cell_type": "code",
   "execution_count": 181,
   "id": "2be11692-d898-4a93-9cf5-43b8f11563e0",
   "metadata": {},
   "outputs": [],
   "source": [
    "d = np.array([[1], [2], [3]])"
   ]
  },
  {
   "cell_type": "code",
   "execution_count": 182,
   "id": "e35c8a10-ab62-4057-b73d-7199f34dda8b",
   "metadata": {},
   "outputs": [
    {
     "data": {
      "text/plain": [
       "array([[1],\n",
       "       [2],\n",
       "       [3]])"
      ]
     },
     "execution_count": 182,
     "metadata": {},
     "output_type": "execute_result"
    }
   ],
   "source": [
    "d"
   ]
  },
  {
   "cell_type": "code",
   "execution_count": 183,
   "id": "0de58f36-7d37-42d4-8e48-cfd13071d725",
   "metadata": {},
   "outputs": [
    {
     "data": {
      "text/plain": [
       "array([[2., 2., 2.],\n",
       "       [3., 3., 3.],\n",
       "       [4., 4., 4.]])"
      ]
     },
     "execution_count": 183,
     "metadata": {},
     "output_type": "execute_result"
    }
   ],
   "source": [
    "M + d"
   ]
  },
  {
   "cell_type": "code",
   "execution_count": 185,
   "id": "7752eaac-b30a-4c9c-b987-fd823846f429",
   "metadata": {},
   "outputs": [],
   "source": [
    "N = np.arange(12).reshape(3, 4)\n"
   ]
  },
  {
   "cell_type": "code",
   "execution_count": 186,
   "id": "f5577861-2ba3-4de7-a50d-b38d73de7227",
   "metadata": {},
   "outputs": [
    {
     "data": {
      "text/plain": [
       "array([[ 0,  1,  2,  3],\n",
       "       [ 4,  5,  6,  7],\n",
       "       [ 8,  9, 10, 11]])"
      ]
     },
     "execution_count": 186,
     "metadata": {},
     "output_type": "execute_result"
    }
   ],
   "source": [
    "N"
   ]
  },
  {
   "cell_type": "code",
   "execution_count": 187,
   "id": "23468a09-a865-4d96-bf8d-6e54b5824990",
   "metadata": {},
   "outputs": [
    {
     "data": {
      "text/plain": [
       "66"
      ]
     },
     "execution_count": 187,
     "metadata": {},
     "output_type": "execute_result"
    }
   ],
   "source": [
    "N.sum()"
   ]
  },
  {
   "cell_type": "code",
   "execution_count": 188,
   "id": "826f5ba5-2b57-4392-b48d-87aa8ec61abc",
   "metadata": {},
   "outputs": [
    {
     "data": {
      "text/plain": [
       "array([12, 15, 18, 21])"
      ]
     },
     "execution_count": 188,
     "metadata": {},
     "output_type": "execute_result"
    }
   ],
   "source": [
    "N.sum(axis=0)"
   ]
  },
  {
   "cell_type": "code",
   "execution_count": 189,
   "id": "e11afa89-9201-4b76-b5fd-365c2537cb47",
   "metadata": {},
   "outputs": [
    {
     "data": {
      "text/plain": [
       "array([ 6, 22, 38])"
      ]
     },
     "execution_count": 189,
     "metadata": {},
     "output_type": "execute_result"
    }
   ],
   "source": [
    "N.sum(axis=1)"
   ]
  },
  {
   "cell_type": "code",
   "execution_count": 190,
   "id": "78395812-d7b3-48fb-b1b2-9342e53de5ae",
   "metadata": {},
   "outputs": [
    {
     "data": {
      "text/plain": [
       "array([[ 0,  1,  2,  3],\n",
       "       [ 4,  5,  6,  7],\n",
       "       [ 8,  9, 10, 11]])"
      ]
     },
     "execution_count": 190,
     "metadata": {},
     "output_type": "execute_result"
    }
   ],
   "source": [
    "N"
   ]
  },
  {
   "cell_type": "code",
   "execution_count": 192,
   "id": "dafdbe9a-df20-4c5b-a8cb-ee64df82c7d0",
   "metadata": {},
   "outputs": [
    {
     "data": {
      "text/plain": [
       "5"
      ]
     },
     "execution_count": 192,
     "metadata": {},
     "output_type": "execute_result"
    }
   ],
   "source": [
    "N[1][1]"
   ]
  },
  {
   "cell_type": "code",
   "execution_count": 193,
   "id": "c9d7078d-f1c0-4d6c-b2fc-43d54bb58d7d",
   "metadata": {},
   "outputs": [
    {
     "data": {
      "text/plain": [
       "5"
      ]
     },
     "execution_count": 193,
     "metadata": {},
     "output_type": "execute_result"
    }
   ],
   "source": [
    "N[1, 1]"
   ]
  },
  {
   "cell_type": "code",
   "execution_count": 194,
   "id": "42ae303f-7647-4180-8d9f-ff6baab08ab3",
   "metadata": {},
   "outputs": [
    {
     "data": {
      "text/plain": [
       "array([[ 5,  6],\n",
       "       [ 9, 10]])"
      ]
     },
     "execution_count": 194,
     "metadata": {},
     "output_type": "execute_result"
    }
   ],
   "source": [
    "N[1:,1:3]"
   ]
  },
  {
   "cell_type": "code",
   "execution_count": 195,
   "id": "c4eb1874-3cd6-4a6a-bdbc-198c9a8c6722",
   "metadata": {},
   "outputs": [
    {
     "data": {
      "text/plain": [
       "array([[False, False, False, False],\n",
       "       [False, False,  True,  True],\n",
       "       [ True,  True,  True,  True]])"
      ]
     },
     "execution_count": 195,
     "metadata": {},
     "output_type": "execute_result"
    }
   ],
   "source": [
    "N > 5"
   ]
  },
  {
   "cell_type": "code",
   "execution_count": 196,
   "id": "e01de0c0-2736-4231-bcae-6c2eb6c3e7e0",
   "metadata": {},
   "outputs": [
    {
     "data": {
      "text/plain": [
       "array([ 6,  7,  8,  9, 10, 11])"
      ]
     },
     "execution_count": 196,
     "metadata": {},
     "output_type": "execute_result"
    }
   ],
   "source": [
    "N[N>5]"
   ]
  },
  {
   "cell_type": "code",
   "execution_count": 197,
   "id": "af5d8edd-df91-4cb6-92a1-64759395df4b",
   "metadata": {},
   "outputs": [
    {
     "data": {
      "text/plain": [
       "array([[ 0,  1,  2,  3],\n",
       "       [ 4,  5,  6,  7],\n",
       "       [ 8,  9, 10, 11]])"
      ]
     },
     "execution_count": 197,
     "metadata": {},
     "output_type": "execute_result"
    }
   ],
   "source": [
    "N"
   ]
  },
  {
   "cell_type": "code",
   "execution_count": 198,
   "id": "cbe8e813-ddba-4565-b8a2-473f0fb2fa9c",
   "metadata": {},
   "outputs": [
    {
     "data": {
      "text/plain": [
       "array([False,  True,  True])"
      ]
     },
     "execution_count": 198,
     "metadata": {},
     "output_type": "execute_result"
    }
   ],
   "source": [
    "(N > 5).any(axis=1)"
   ]
  },
  {
   "cell_type": "code",
   "execution_count": 199,
   "id": "7f6884bf-b31a-408a-ac4f-78e0d78c69bb",
   "metadata": {},
   "outputs": [
    {
     "data": {
      "text/plain": [
       "array([[ 4,  5,  6,  7],\n",
       "       [ 8,  9, 10, 11]])"
      ]
     },
     "execution_count": 199,
     "metadata": {},
     "output_type": "execute_result"
    }
   ],
   "source": [
    "N[(N > 5).any(axis=1)]"
   ]
  },
  {
   "cell_type": "code",
   "execution_count": 202,
   "id": "e6f446a2-3779-4375-9ad5-0bcaad0c81fb",
   "metadata": {},
   "outputs": [
    {
     "ename": "IndexError",
     "evalue": "boolean index did not match indexed array along dimension 1; dimension is 4 but corresponding boolean dimension is 3",
     "output_type": "error",
     "traceback": [
      "\u001b[0;31m---------------------------------------------------------------------------\u001b[0m",
      "\u001b[0;31mIndexError\u001b[0m                                Traceback (most recent call last)",
      "Cell \u001b[0;32mIn [202], line 1\u001b[0m\n\u001b[0;32m----> 1\u001b[0m \u001b[43mN\u001b[49m\u001b[43m[\u001b[49m\u001b[43m(\u001b[49m\u001b[43mN\u001b[49m\u001b[43m \u001b[49m\u001b[38;5;241;43m>\u001b[39;49m\u001b[43m \u001b[49m\u001b[38;5;241;43m5\u001b[39;49m\u001b[43m)\u001b[49m\u001b[38;5;241;43m.\u001b[39;49m\u001b[43many\u001b[49m\u001b[43m(\u001b[49m\u001b[43maxis\u001b[49m\u001b[38;5;241;43m=\u001b[39;49m\u001b[38;5;241;43m1\u001b[39;49m\u001b[43m)\u001b[49m\u001b[43m,\u001b[49m\u001b[43m(\u001b[49m\u001b[43mN\u001b[49m\u001b[43m \u001b[49m\u001b[38;5;241;43m>\u001b[39;49m\u001b[43m \u001b[49m\u001b[38;5;241;43m5\u001b[39;49m\u001b[43m)\u001b[49m\u001b[38;5;241;43m.\u001b[39;49m\u001b[43many\u001b[49m\u001b[43m(\u001b[49m\u001b[43maxis\u001b[49m\u001b[38;5;241;43m=\u001b[39;49m\u001b[38;5;241;43m1\u001b[39;49m\u001b[43m)\u001b[49m\u001b[43m]\u001b[49m\n",
      "\u001b[0;31mIndexError\u001b[0m: boolean index did not match indexed array along dimension 1; dimension is 4 but corresponding boolean dimension is 3"
     ]
    }
   ],
   "source": [
    "N[(N > 5).any(axis=1),:]"
   ]
  },
  {
   "cell_type": "code",
   "execution_count": 203,
   "id": "6c7a0651-e170-4e22-9372-268c46702d66",
   "metadata": {},
   "outputs": [
    {
     "name": "stdout",
     "output_type": "stream",
     "text": [
      "[0 1 2 3]\n",
      "[4 5 6 7]\n",
      "[ 8  9 10 11]\n"
     ]
    }
   ],
   "source": [
    "for el in N:\n",
    "    print(el)"
   ]
  },
  {
   "cell_type": "code",
   "execution_count": 204,
   "id": "54b540c4-9f1c-43b6-8e62-c9e3da9245eb",
   "metadata": {},
   "outputs": [
    {
     "name": "stdout",
     "output_type": "stream",
     "text": [
      "0\n",
      "1\n",
      "2\n",
      "3\n",
      "4\n",
      "5\n",
      "6\n",
      "7\n",
      "8\n",
      "9\n",
      "10\n",
      "11\n"
     ]
    }
   ],
   "source": [
    "for el in N.flat:\n",
    "    print(el)"
   ]
  },
  {
   "cell_type": "code",
   "execution_count": 205,
   "id": "aa90fc4a-55f6-4831-abfe-e862577d5922",
   "metadata": {},
   "outputs": [
    {
     "name": "stdout",
     "output_type": "stream",
     "text": [
      "0\n",
      "1\n",
      "2\n",
      "3\n",
      "4\n",
      "5\n",
      "6\n",
      "7\n",
      "8\n",
      "9\n",
      "10\n",
      "11\n"
     ]
    }
   ],
   "source": [
    "for el in N.ravel():\n",
    "    print(el)"
   ]
  },
  {
   "cell_type": "code",
   "execution_count": 207,
   "id": "07333db7-b353-4b83-ab56-7aaa89b67a24",
   "metadata": {},
   "outputs": [
    {
     "data": {
      "text/plain": [
       "\u001b[0;31mDocstring:\u001b[0m\n",
       "a.ravel([order])\n",
       "\n",
       "Return a flattened array.\n",
       "\n",
       "Refer to `numpy.ravel` for full documentation.\n",
       "\n",
       "See Also\n",
       "--------\n",
       "numpy.ravel : equivalent function\n",
       "\n",
       "ndarray.flat : a flat iterator on the array.\n",
       "\u001b[0;31mType:\u001b[0m      builtin_function_or_method\n"
      ]
     },
     "metadata": {},
     "output_type": "display_data"
    }
   ],
   "source": [
    "N.ravel?"
   ]
  },
  {
   "cell_type": "markdown",
   "id": "92d02d14-912a-412c-a30e-76f22f4bc1c3",
   "metadata": {},
   "source": [
    "### stacking"
   ]
  },
  {
   "cell_type": "code",
   "execution_count": 209,
   "id": "8e14672f-ec52-42c8-8d0f-da811b836139",
   "metadata": {},
   "outputs": [
    {
     "data": {
      "text/plain": [
       "array([[8., 6.],\n",
       "       [2., 9.]])"
      ]
     },
     "execution_count": 209,
     "metadata": {},
     "output_type": "execute_result"
    }
   ],
   "source": [
    "a = np.floor(10* np.random.random((2,2)))\n",
    "a"
   ]
  },
  {
   "cell_type": "code",
   "execution_count": 210,
   "id": "8ea33ae7-3a3b-4578-b0c9-cca22691acff",
   "metadata": {},
   "outputs": [
    {
     "data": {
      "text/plain": [
       "array([[0.07019728, 0.33741875],\n",
       "       [0.08539206, 0.95431261]])"
      ]
     },
     "execution_count": 210,
     "metadata": {},
     "output_type": "execute_result"
    }
   ],
   "source": [
    "np.random.random((2,2))"
   ]
  },
  {
   "cell_type": "code",
   "execution_count": 211,
   "id": "041deb57-c49a-4131-895f-b31a27830a0f",
   "metadata": {},
   "outputs": [
    {
     "data": {
      "text/plain": [
       "array([[8., 4.],\n",
       "       [1., 4.]])"
      ]
     },
     "execution_count": 211,
     "metadata": {},
     "output_type": "execute_result"
    }
   ],
   "source": [
    "b = np.floor(10* np.random.random((2,2)))\n",
    "b"
   ]
  },
  {
   "cell_type": "code",
   "execution_count": 212,
   "id": "b8717266-b988-4c09-a292-60370c225511",
   "metadata": {},
   "outputs": [
    {
     "data": {
      "text/plain": [
       "(array([[8., 6.],\n",
       "        [2., 9.]]),\n",
       " array([[8., 4.],\n",
       "        [1., 4.]]))"
      ]
     },
     "execution_count": 212,
     "metadata": {},
     "output_type": "execute_result"
    }
   ],
   "source": [
    "a, b"
   ]
  },
  {
   "cell_type": "code",
   "execution_count": 213,
   "id": "1d021213-771c-4557-84d7-8fc33f4d3b78",
   "metadata": {},
   "outputs": [
    {
     "data": {
      "text/plain": [
       "array([[8., 6.],\n",
       "       [2., 9.],\n",
       "       [8., 4.],\n",
       "       [1., 4.]])"
      ]
     },
     "execution_count": 213,
     "metadata": {},
     "output_type": "execute_result"
    }
   ],
   "source": [
    "np.vstack([a, b])"
   ]
  },
  {
   "cell_type": "code",
   "execution_count": 214,
   "id": "0683d0fc-7e50-41f4-931b-e1866802423e",
   "metadata": {},
   "outputs": [
    {
     "data": {
      "text/plain": [
       "array([[8., 6., 8., 4.],\n",
       "       [2., 9., 1., 4.]])"
      ]
     },
     "execution_count": 214,
     "metadata": {},
     "output_type": "execute_result"
    }
   ],
   "source": [
    "np.hstack([a, b])"
   ]
  },
  {
   "cell_type": "markdown",
   "id": "386de4d7-dabc-4820-8436-9603c1fb03e8",
   "metadata": {},
   "source": [
    "### Image\n",
    "\n",
    "pip install matplotlib\n",
    "pip install pillow"
   ]
  },
  {
   "cell_type": "code",
   "execution_count": 218,
   "id": "3d05d1da-73ac-46f4-b815-da7265b22c78",
   "metadata": {},
   "outputs": [
    {
     "name": "stdout",
     "output_type": "stream",
     "text": [
      "Requirement already satisfied: pillow in ./jvenv/lib/python3.10/site-packages (9.3.0)\n"
     ]
    }
   ],
   "source": [
    "!pip install pillow"
   ]
  },
  {
   "cell_type": "code",
   "execution_count": 5,
   "id": "ff76620c-56cf-4aa0-a1a8-68b05271b983",
   "metadata": {},
   "outputs": [],
   "source": [
    "import matplotlib.image as mpimg\n",
    "import matplotlib.pyplot as plt\n",
    "import PIL"
   ]
  },
  {
   "cell_type": "code",
   "execution_count": 2,
   "id": "249c5937-5c2b-4e64-9b1c-da659b3f301a",
   "metadata": {},
   "outputs": [
    {
     "name": "stderr",
     "output_type": "stream",
     "text": [
      "/var/folders/8l/t3zs7y694s5g088bzybz9czc0000gn/T/ipykernel_94786/1901568514.py:1: MatplotlibDeprecationWarning: Directly reading images from URLs is deprecated since 3.4 and will no longer be supported two minor releases later. Please open the URL for reading and pass the result to Pillow, e.g. with ``np.array(PIL.Image.open(urllib.request.urlopen(url)))``.\n",
      "  im = mpimg.imread(\"https://vignette.wikia.nocookie.net/steven-universe/images/0/06/Funny_dog.png\")\n"
     ]
    }
   ],
   "source": [
    "im = mpimg.imread(\"https://vignette.wikia.nocookie.net/steven-universe/images/0/06/Funny_dog.png\")"
   ]
  },
  {
   "cell_type": "code",
   "execution_count": 4,
   "id": "e6e9850c",
   "metadata": {},
   "outputs": [
    {
     "data": {
      "text/plain": [
       "(386, 408, 4)"
      ]
     },
     "execution_count": 4,
     "metadata": {},
     "output_type": "execute_result"
    }
   ],
   "source": [
    "im.shape"
   ]
  },
  {
   "cell_type": "code",
   "execution_count": 6,
   "id": "9f2eee6b-f9ff-486e-bb0b-954e6377b7df",
   "metadata": {},
   "outputs": [
    {
     "data": {
      "text/plain": [
       "<matplotlib.image.AxesImage at 0x1288d2ce0>"
      ]
     },
     "execution_count": 6,
     "metadata": {},
     "output_type": "execute_result"
    },
    {
     "data": {
      "image/png": "[encoded data removed]",
      "text/plain": [
       "<Figure size 432x288 with 1 Axes>"
      ]
     },
     "metadata": {
      "needs_background": "light"
     },
     "output_type": "display_data"
    }
   ],
   "source": [
    "plt.imshow(im)"
   ]
  },
  {
   "cell_type": "code",
   "execution_count": null,
   "id": "29401a0c-6a11-45dd-aa28-0d031d9655fe",
   "metadata": {},
   "outputs": [],
   "source": []
  }
 ],
 "metadata": {
  "kernelspec": {
   "display_name": "Python 3 (ipykernel)",
   "language": "python",
   "name": "python3"
  },
  "language_info": {
   "codemirror_mode": {
    "name": "ipython",
    "version": 3
   },
   "file_extension": ".py",
   "mimetype": "text/x-python",
   "name": "python",
   "nbconvert_exporter": "python",
   "pygments_lexer": "ipython3",
   "version": "3.10.6"
  },
  "toc": {
   "base_numbering": 1,
   "nav_menu": {},
   "number_sections": true,
   "sideBar": true,
   "skip_h1_title": false,
   "title_cell": "Table of Contents",
   "title_sidebar": "Contents",
   "toc_cell": false,
   "toc_position": {},
   "toc_section_display": true,
   "toc_window_display": false
  }
 },
 "nbformat": 4,
 "nbformat_minor": 5
}
